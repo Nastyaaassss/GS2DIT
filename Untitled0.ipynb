{
  "nbformat": 4,
  "nbformat_minor": 0,
  "metadata": {
    "colab": {
      "provenance": [],
      "authorship_tag": "ABX9TyMHCBgNLc0QHHSVekTTOb/P",
      "include_colab_link": true
    },
    "kernelspec": {
      "name": "python3",
      "display_name": "Python 3"
    },
    "language_info": {
      "name": "python"
    }
  },
  "cells": [
    {
      "cell_type": "markdown",
      "metadata": {
        "id": "view-in-github",
        "colab_type": "text"
      },
      "source": [
        "<a href=\"https://colab.research.google.com/github/Nastyaaassss/GS2DIT/blob/main/Untitled0.ipynb\" target=\"_parent\"><img src=\"https://colab.research.google.com/assets/colab-badge.svg\" alt=\"Open In Colab\"/></a>"
      ]
    },
    {
      "cell_type": "markdown",
      "source": [
        "#Code section"
      ],
      "metadata": {
        "id": "8LGqSwu9R5Fr"
      }
    },
    {
      "cell_type": "code",
      "source": [
        "a=1"
      ],
      "metadata": {
        "id": "fi3D0gwaSprE"
      },
      "execution_count": 1,
      "outputs": []
    },
    {
      "cell_type": "code",
      "source": [
        "b=7"
      ],
      "metadata": {
        "id": "TTSQoluCSpmk"
      },
      "execution_count": 6,
      "outputs": []
    },
    {
      "cell_type": "code",
      "source": [
        "a+b"
      ],
      "metadata": {
        "colab": {
          "base_uri": "https://localhost:8080/"
        },
        "id": "fFy-ozVxSpSs",
        "outputId": "6ab02903-0367-4052-bbaa-753da57a4e68"
      },
      "execution_count": 7,
      "outputs": [
        {
          "output_type": "execute_result",
          "data": {
            "text/plain": [
              "8"
            ]
          },
          "metadata": {},
          "execution_count": 7
        }
      ]
    },
    {
      "cell_type": "markdown",
      "source": [
        "#Text section "
      ],
      "metadata": {
        "id": "RsCcdI8RRy6j"
      }
    },
    {
      "cell_type": "markdown",
      "source": [
        "**print('PJATK')**"
      ],
      "metadata": {
        "id": "T3N9qmvtVE6L"
      }
    },
    {
      "cell_type": "code",
      "source": [
        "print(\"PJATK\")"
      ],
      "metadata": {
        "colab": {
          "base_uri": "https://localhost:8080/"
        },
        "id": "4NDneOmYUkiT",
        "outputId": "8e2998fc-ffe8-4114-d0f9-9a736ab2e888"
      },
      "execution_count": 14,
      "outputs": [
        {
          "output_type": "stream",
          "name": "stdout",
          "text": [
            "PJATK\n"
          ]
        }
      ]
    }
  ]
}